{
  "nbformat": 4,
  "nbformat_minor": 0,
  "metadata": {
    "colab": {
      "provenance": [],
      "authorship_tag": "ABX9TyNczbQumYyBUDZlp1kq1XJ0",
      "include_colab_link": true
    },
    "kernelspec": {
      "name": "python3",
      "display_name": "Python 3"
    },
    "language_info": {
      "name": "python"
    },
    "accelerator": "GPU",
    "gpuClass": "standard"
  },
  "cells": [
    {
      "cell_type": "markdown",
      "metadata": {
        "id": "view-in-github",
        "colab_type": "text"
      },
      "source": [
        "<a href=\"https://colab.research.google.com/github/NIVEDITHA0808/fluffy-octo-waffle/blob/master/malaria_cell.ipynb\" target=\"_parent\"><img src=\"https://colab.research.google.com/assets/colab-badge.svg\" alt=\"Open In Colab\"/></a>"
      ]
    },
    {
      "cell_type": "code",
      "source": [
        "from google.colab import drive\n",
        "drive.mount('/content/drive')"
      ],
      "metadata": {
        "colab": {
          "base_uri": "https://localhost:8080/"
        },
        "id": "FBRZSKTH-Slg",
        "outputId": "08b1fc3b-6482-4e74-e8cc-6d530840ea1e"
      },
      "execution_count": 1,
      "outputs": [
        {
          "output_type": "stream",
          "name": "stdout",
          "text": [
            "Mounted at /content/drive\n"
          ]
        }
      ]
    },
    {
      "cell_type": "code",
      "source": [
        "import numpy as np\n",
        "import pandas as pd\n",
        "import matplotlib.pyplot as plt\n",
        "from keras.models import Sequential, Model, load_model\n",
        "from keras.applications.vgg19 import VGG19\n",
        "from glob import glob\n",
        "from keras.layers import Flatten, Dense\n",
        "from keras.preprocessing.image import ImageDataGenerator\n",
        "import tensorflow as tf\n",
        "from tensorflow.keras.preprocessing import image\n",
        "from tensorflow.keras.applications.resnet50 import preprocess_input"
      ],
      "metadata": {
        "id": "WovN4UsT-s7a"
      },
      "execution_count": 2,
      "outputs": []
    },
    {
      "cell_type": "code",
      "source": [
        "import tensorflow as tf\n",
        "tf.__version__"
      ],
      "metadata": {
        "colab": {
          "base_uri": "https://localhost:8080/",
          "height": 35
        },
        "id": "tFVw_NbHubq6",
        "outputId": "074803a2-bb38-45b2-c1ce-3e0c9dc611cc"
      },
      "execution_count": 3,
      "outputs": [
        {
          "output_type": "execute_result",
          "data": {
            "text/plain": [
              "'2.11.0'"
            ],
            "application/vnd.google.colaboratory.intrinsic+json": {
              "type": "string"
            }
          },
          "metadata": {},
          "execution_count": 3
        }
      ]
    },
    {
      "cell_type": "code",
      "source": [
        "image_size=[224,224]\n",
        "train_data=\"/content/drive/MyDrive/Dataset/Train\"\n",
        "test_data=\"/content/drive/MyDrive/Dataset/Test\""
      ],
      "metadata": {
        "id": "3c3Hpqaq_7US"
      },
      "execution_count": 4,
      "outputs": []
    },
    {
      "cell_type": "code",
      "source": [
        "vgg19=VGG19(input_shape=image_size+[3], weights=\"imagenet\", include_top= False)"
      ],
      "metadata": {
        "colab": {
          "base_uri": "https://localhost:8080/"
        },
        "id": "pxHEsNERtw8v",
        "outputId": "c7ce3292-2183-4ceb-eb5b-a24483a0507f"
      },
      "execution_count": 5,
      "outputs": [
        {
          "output_type": "stream",
          "name": "stdout",
          "text": [
            "Downloading data from https://storage.googleapis.com/tensorflow/keras-applications/vgg19/vgg19_weights_tf_dim_ordering_tf_kernels_notop.h5\n",
            "80134624/80134624 [==============================] - 0s 0us/step\n"
          ]
        }
      ]
    },
    {
      "cell_type": "code",
      "source": [
        "vgg19.summary()"
      ],
      "metadata": {
        "colab": {
          "base_uri": "https://localhost:8080/"
        },
        "id": "vGxS1w6FvdA1",
        "outputId": "2942c6ff-fc4e-4e75-a0b6-03d94a44cca7"
      },
      "execution_count": null,
      "outputs": [
        {
          "output_type": "stream",
          "name": "stdout",
          "text": [
            "Model: \"vgg19\"\n",
            "_________________________________________________________________\n",
            " Layer (type)                Output Shape              Param #   \n",
            "=================================================================\n",
            " input_1 (InputLayer)        [(None, 224, 224, 3)]     0         \n",
            "                                                                 \n",
            " block1_conv1 (Conv2D)       (None, 224, 224, 64)      1792      \n",
            "                                                                 \n",
            " block1_conv2 (Conv2D)       (None, 224, 224, 64)      36928     \n",
            "                                                                 \n",
            " block1_pool (MaxPooling2D)  (None, 112, 112, 64)      0         \n",
            "                                                                 \n",
            " block2_conv1 (Conv2D)       (None, 112, 112, 128)     73856     \n",
            "                                                                 \n",
            " block2_conv2 (Conv2D)       (None, 112, 112, 128)     147584    \n",
            "                                                                 \n",
            " block2_pool (MaxPooling2D)  (None, 56, 56, 128)       0         \n",
            "                                                                 \n",
            " block3_conv1 (Conv2D)       (None, 56, 56, 256)       295168    \n",
            "                                                                 \n",
            " block3_conv2 (Conv2D)       (None, 56, 56, 256)       590080    \n",
            "                                                                 \n",
            " block3_conv3 (Conv2D)       (None, 56, 56, 256)       590080    \n",
            "                                                                 \n",
            " block3_conv4 (Conv2D)       (None, 56, 56, 256)       590080    \n",
            "                                                                 \n",
            " block3_pool (MaxPooling2D)  (None, 28, 28, 256)       0         \n",
            "                                                                 \n",
            " block4_conv1 (Conv2D)       (None, 28, 28, 512)       1180160   \n",
            "                                                                 \n",
            " block4_conv2 (Conv2D)       (None, 28, 28, 512)       2359808   \n",
            "                                                                 \n",
            " block4_conv3 (Conv2D)       (None, 28, 28, 512)       2359808   \n",
            "                                                                 \n",
            " block4_conv4 (Conv2D)       (None, 28, 28, 512)       2359808   \n",
            "                                                                 \n",
            " block4_pool (MaxPooling2D)  (None, 14, 14, 512)       0         \n",
            "                                                                 \n",
            " block5_conv1 (Conv2D)       (None, 14, 14, 512)       2359808   \n",
            "                                                                 \n",
            " block5_conv2 (Conv2D)       (None, 14, 14, 512)       2359808   \n",
            "                                                                 \n",
            " block5_conv3 (Conv2D)       (None, 14, 14, 512)       2359808   \n",
            "                                                                 \n",
            " block5_conv4 (Conv2D)       (None, 14, 14, 512)       2359808   \n",
            "                                                                 \n",
            " block5_pool (MaxPooling2D)  (None, 7, 7, 512)         0         \n",
            "                                                                 \n",
            "=================================================================\n",
            "Total params: 20,024,384\n",
            "Trainable params: 20,024,384\n",
            "Non-trainable params: 0\n",
            "_________________________________________________________________\n"
          ]
        }
      ]
    },
    {
      "cell_type": "code",
      "source": [
        "#storing each layer in an address and setting training off.\n",
        "for layer in vgg19.layers:\n",
        "  layer.trainable=False"
      ],
      "metadata": {
        "id": "OgDlEZytPpKE"
      },
      "execution_count": 6,
      "outputs": []
    },
    {
      "cell_type": "code",
      "source": [
        "folders=glob(\"/content/drive/MyDrive/Dataset/Train/*\")"
      ],
      "metadata": {
        "id": "KjMq8xRYTYQQ"
      },
      "execution_count": 7,
      "outputs": []
    },
    {
      "cell_type": "code",
      "source": [
        "folders"
      ],
      "metadata": {
        "colab": {
          "base_uri": "https://localhost:8080/"
        },
        "id": "CqAeK7AgT9GE",
        "outputId": "6180e6fa-da70-486a-e7d5-31b6158abcd2"
      },
      "execution_count": 8,
      "outputs": [
        {
          "output_type": "execute_result",
          "data": {
            "text/plain": [
              "['/content/drive/MyDrive/Dataset/Train/Parasite',\n",
              " '/content/drive/MyDrive/Dataset/Train/Uninfected']"
            ]
          },
          "metadata": {},
          "execution_count": 8
        }
      ]
    },
    {
      "cell_type": "code",
      "source": [
        "x=Flatten()(vgg19.output)"
      ],
      "metadata": {
        "id": "KclQd_y5TI7E"
      },
      "execution_count": 9,
      "outputs": []
    },
    {
      "cell_type": "code",
      "source": [
        "prediction= Dense(len(folders), activation='softmax')(x)\n",
        "model=Model(inputs=vgg19.input, outputs=prediction)"
      ],
      "metadata": {
        "id": "su0CkmmFUzrm"
      },
      "execution_count": 10,
      "outputs": []
    },
    {
      "cell_type": "code",
      "source": [
        "model.summary()"
      ],
      "metadata": {
        "colab": {
          "base_uri": "https://localhost:8080/"
        },
        "id": "lYbuzPL1aaPZ",
        "outputId": "924bf582-c14a-4933-d51e-0ebb42f51340"
      },
      "execution_count": 11,
      "outputs": [
        {
          "output_type": "stream",
          "name": "stdout",
          "text": [
            "Model: \"model\"\n",
            "_________________________________________________________________\n",
            " Layer (type)                Output Shape              Param #   \n",
            "=================================================================\n",
            " input_1 (InputLayer)        [(None, 224, 224, 3)]     0         \n",
            "                                                                 \n",
            " block1_conv1 (Conv2D)       (None, 224, 224, 64)      1792      \n",
            "                                                                 \n",
            " block1_conv2 (Conv2D)       (None, 224, 224, 64)      36928     \n",
            "                                                                 \n",
            " block1_pool (MaxPooling2D)  (None, 112, 112, 64)      0         \n",
            "                                                                 \n",
            " block2_conv1 (Conv2D)       (None, 112, 112, 128)     73856     \n",
            "                                                                 \n",
            " block2_conv2 (Conv2D)       (None, 112, 112, 128)     147584    \n",
            "                                                                 \n",
            " block2_pool (MaxPooling2D)  (None, 56, 56, 128)       0         \n",
            "                                                                 \n",
            " block3_conv1 (Conv2D)       (None, 56, 56, 256)       295168    \n",
            "                                                                 \n",
            " block3_conv2 (Conv2D)       (None, 56, 56, 256)       590080    \n",
            "                                                                 \n",
            " block3_conv3 (Conv2D)       (None, 56, 56, 256)       590080    \n",
            "                                                                 \n",
            " block3_conv4 (Conv2D)       (None, 56, 56, 256)       590080    \n",
            "                                                                 \n",
            " block3_pool (MaxPooling2D)  (None, 28, 28, 256)       0         \n",
            "                                                                 \n",
            " block4_conv1 (Conv2D)       (None, 28, 28, 512)       1180160   \n",
            "                                                                 \n",
            " block4_conv2 (Conv2D)       (None, 28, 28, 512)       2359808   \n",
            "                                                                 \n",
            " block4_conv3 (Conv2D)       (None, 28, 28, 512)       2359808   \n",
            "                                                                 \n",
            " block4_conv4 (Conv2D)       (None, 28, 28, 512)       2359808   \n",
            "                                                                 \n",
            " block4_pool (MaxPooling2D)  (None, 14, 14, 512)       0         \n",
            "                                                                 \n",
            " block5_conv1 (Conv2D)       (None, 14, 14, 512)       2359808   \n",
            "                                                                 \n",
            " block5_conv2 (Conv2D)       (None, 14, 14, 512)       2359808   \n",
            "                                                                 \n",
            " block5_conv3 (Conv2D)       (None, 14, 14, 512)       2359808   \n",
            "                                                                 \n",
            " block5_conv4 (Conv2D)       (None, 14, 14, 512)       2359808   \n",
            "                                                                 \n",
            " block5_pool (MaxPooling2D)  (None, 7, 7, 512)         0         \n",
            "                                                                 \n",
            " flatten (Flatten)           (None, 25088)             0         \n",
            "                                                                 \n",
            " dense (Dense)               (None, 2)                 50178     \n",
            "                                                                 \n",
            "=================================================================\n",
            "Total params: 20,074,562\n",
            "Trainable params: 50,178\n",
            "Non-trainable params: 20,024,384\n",
            "_________________________________________________________________\n"
          ]
        }
      ]
    },
    {
      "cell_type": "code",
      "source": [
        "#to tell the model what loss funtion and optimization method to use, we use model.compile\n",
        "model.compile(loss=\"categorical_crossentropy\",optimizer=\"adam\", metrics=[\"accuracy\"])\n"
      ],
      "metadata": {
        "id": "Bi_qKbr-cI0w"
      },
      "execution_count": 12,
      "outputs": []
    },
    {
      "cell_type": "code",
      "source": [
        "#to read the data we use image data generator to import the data from the dataset\n",
        "train_datagen=ImageDataGenerator(rescale=1./255,shear_range=0.2, zoom_range=0.2, horizontal_flip=True)\n",
        "test_datagen=ImageDataGenerator(rescale=1./255)"
      ],
      "metadata": {
        "id": "bKWKPyINhJ1G"
      },
      "execution_count": 13,
      "outputs": []
    },
    {
      "cell_type": "code",
      "source": [
        "training_set=train_datagen.flow_from_directory(\"/content/drive/MyDrive/Dataset/Train\",target_size=(224,224),batch_size=32,class_mode=\"categorical\")"
      ],
      "metadata": {
        "colab": {
          "base_uri": "https://localhost:8080/"
        },
        "id": "iRDWv6chjY5R",
        "outputId": "940c56f2-2eda-4f65-b50c-53d960612ae8"
      },
      "execution_count": 14,
      "outputs": [
        {
          "output_type": "stream",
          "name": "stdout",
          "text": [
            "Found 416 images belonging to 2 classes.\n"
          ]
        }
      ]
    },
    {
      "cell_type": "code",
      "source": [
        "training_set"
      ],
      "metadata": {
        "colab": {
          "base_uri": "https://localhost:8080/"
        },
        "id": "C7_EbUINjZIa",
        "outputId": "c1c47ab2-5390-4374-d2fe-f0220a777a36"
      },
      "execution_count": 15,
      "outputs": [
        {
          "output_type": "execute_result",
          "data": {
            "text/plain": [
              "<keras.preprocessing.image.DirectoryIterator at 0x7f0c4c0bc3a0>"
            ]
          },
          "metadata": {},
          "execution_count": 15
        }
      ]
    },
    {
      "cell_type": "code",
      "source": [
        "test_set=test_datagen.flow_from_directory(\"/content/drive/MyDrive/Dataset/Test\",target_size=(224,224),batch_size=32,class_mode=\"categorical\")"
      ],
      "metadata": {
        "colab": {
          "base_uri": "https://localhost:8080/"
        },
        "id": "IFn5UqtOkNJZ",
        "outputId": "2dcef38b-7f1f-4f9e-a67d-1e53891cefab"
      },
      "execution_count": 16,
      "outputs": [
        {
          "output_type": "stream",
          "name": "stdout",
          "text": [
            "Found 134 images belonging to 2 classes.\n"
          ]
        }
      ]
    },
    {
      "cell_type": "code",
      "source": [
        "#fit the model for training and validation\n",
        "r=model.fit(training_set,validation_data=test_set, epochs=2, steps_per_epoch=len(training_set), validation_steps=len(test_set))"
      ],
      "metadata": {
        "colab": {
          "base_uri": "https://localhost:8080/"
        },
        "id": "7msr2S87kNQ1",
        "outputId": "20797031-b563-4965-d446-d4755e76bdf9"
      },
      "execution_count": 26,
      "outputs": [
        {
          "output_type": "stream",
          "name": "stdout",
          "text": [
            "Epoch 1/2\n",
            "13/13 [==============================] - 7s 553ms/step - loss: 0.4707 - accuracy: 0.7837 - val_loss: 0.5831 - val_accuracy: 0.6866\n",
            "Epoch 2/2\n",
            "13/13 [==============================] - 6s 476ms/step - loss: 0.3775 - accuracy: 0.8197 - val_loss: 0.4012 - val_accuracy: 0.7910\n"
          ]
        }
      ]
    },
    {
      "cell_type": "code",
      "source": [
        "if tf.test.gpu_device_name():\n",
        "  print(\"default gpu name: {}\", format(tf.test.gpu_device_name()))\n",
        "else:\n",
        "  print(\"install gpu\")"
      ],
      "metadata": {
        "colab": {
          "base_uri": "https://localhost:8080/"
        },
        "id": "eqDrZEZUkNTr",
        "outputId": "892aa424-4406-49cb-fe77-51ec3339ab8a"
      },
      "execution_count": 27,
      "outputs": [
        {
          "output_type": "stream",
          "name": "stdout",
          "text": [
            "default gpu name: {} /device:GPU:0\n"
          ]
        }
      ]
    },
    {
      "cell_type": "code",
      "source": [
        "plt.plot(r.history['loss'],\"r\",label='train loss')\n",
        "plt.plot(r.history['val_loss'],\"b\",label='train val_loss')\n",
        "plt.xlabel(\"epochs\")\n",
        "plt.ylabel(\"Loss\")\n",
        "plt.legend()\n",
        "plt.show()\n",
        "plt.plot(r.history['accuracy'],\"orange\",label='train accuracy')\n",
        "plt.plot(r.history['val_accuracy'],\"g\",label='train val_accuracy')\n",
        "plt.xlabel(\"epochs\")\n",
        "plt.ylabel(\"Accuracy\")\n",
        "plt.legend()\n",
        "plt.show()"
      ],
      "metadata": {
        "colab": {
          "base_uri": "https://localhost:8080/",
          "height": 541
        },
        "id": "bBy53Cl6m3Zv",
        "outputId": "511b607c-025c-4443-e567-e8fc08eaec22"
      },
      "execution_count": 28,
      "outputs": [
        {
          "output_type": "display_data",
          "data": {
            "text/plain": [
              "<Figure size 432x288 with 1 Axes>"
            ],
            "image/png": "[encoded data removed]"
          },
          "metadata": {
            "needs_background": "light"
          }
        },
        {
          "output_type": "display_data",
          "data": {
            "text/plain": [
              "<Figure size 432x288 with 1 Axes>"
            ],
            "image/png": "[encoded data removed]"
          },
          "metadata": {
            "needs_background": "light"
          }
        }
      ]
    },
    {
      "cell_type": "code",
      "source": [
        "y_pred=model.predict(test_set)"
      ],
      "metadata": {
        "colab": {
          "base_uri": "https://localhost:8080/"
        },
        "id": "iPYmehkiobnM",
        "outputId": "d6cc7b1c-1b1c-407f-b497-d86c1d3754af"
      },
      "execution_count": 41,
      "outputs": [
        {
          "output_type": "stream",
          "name": "stdout",
          "text": [
            "5/5 [==============================] - 1s 151ms/step\n"
          ]
        }
      ]
    },
    {
      "cell_type": "code",
      "source": [
        "#probability of it being parasite and uninfected respectively\n",
        "y_pred"
      ],
      "metadata": {
        "colab": {
          "base_uri": "https://localhost:8080/"
        },
        "id": "caq6HUiZobwT",
        "outputId": "9b32b924-e81b-4c61-a022-95b5f172098e"
      },
      "execution_count": 42,
      "outputs": [
        {
          "output_type": "execute_result",
          "data": {
            "text/plain": [
              "array([[0.695729  , 0.304271  ],\n",
              "       [0.7488213 , 0.2511787 ],\n",
              "       [0.634921  , 0.365079  ],\n",
              "       [0.99594975, 0.00405024],\n",
              "       [0.950672  , 0.049328  ],\n",
              "       [0.42323557, 0.57676446],\n",
              "       [0.6796488 , 0.32035118],\n",
              "       [0.9409877 , 0.05901233],\n",
              "       [0.9106295 , 0.08937051],\n",
              "       [0.99491936, 0.00508062],\n",
              "       [0.6290082 , 0.3709918 ],\n",
              "       [0.64370364, 0.3562964 ],\n",
              "       [0.7161087 , 0.28389132],\n",
              "       [0.96247435, 0.03752562],\n",
              "       [0.5370171 , 0.46298292],\n",
              "       [0.5503223 , 0.44967774],\n",
              "       [0.34558946, 0.6544105 ],\n",
              "       [0.7909326 , 0.2090674 ],\n",
              "       [0.37598157, 0.62401843],\n",
              "       [0.46109512, 0.5389049 ],\n",
              "       [0.79566455, 0.20433544],\n",
              "       [0.7894642 , 0.21053576],\n",
              "       [0.6907908 , 0.3092093 ],\n",
              "       [0.9343201 , 0.06567988],\n",
              "       [0.40392426, 0.5960757 ],\n",
              "       [0.9323911 , 0.06760889],\n",
              "       [0.5939139 , 0.4060861 ],\n",
              "       [0.6173523 , 0.38264772],\n",
              "       [0.9445721 , 0.05542787],\n",
              "       [0.75917405, 0.24082598],\n",
              "       [0.66874003, 0.33125997],\n",
              "       [0.53190523, 0.46809477],\n",
              "       [0.6002227 , 0.39977732],\n",
              "       [0.7589107 , 0.2410893 ],\n",
              "       [0.4486644 , 0.55133563],\n",
              "       [0.5420909 , 0.4579091 ],\n",
              "       [0.93576247, 0.06423754],\n",
              "       [0.98427963, 0.01572039],\n",
              "       [0.50963414, 0.49036592],\n",
              "       [0.49717504, 0.50282496],\n",
              "       [0.9443825 , 0.05561751],\n",
              "       [0.98619276, 0.01380723],\n",
              "       [0.5016955 , 0.49830452],\n",
              "       [0.9734234 , 0.02657654],\n",
              "       [0.30675167, 0.69324833],\n",
              "       [0.33513436, 0.6648657 ],\n",
              "       [0.679586  , 0.320414  ],\n",
              "       [0.4854043 , 0.51459575],\n",
              "       [0.21138805, 0.78861195],\n",
              "       [0.9962727 , 0.00372731],\n",
              "       [0.70512325, 0.29487672],\n",
              "       [0.90643185, 0.0935681 ],\n",
              "       [0.83372056, 0.16627942],\n",
              "       [0.34376347, 0.6562365 ],\n",
              "       [0.40657607, 0.59342396],\n",
              "       [0.96596533, 0.0340347 ],\n",
              "       [0.97176886, 0.02823118],\n",
              "       [0.8907852 , 0.10921484],\n",
              "       [0.29183972, 0.7081603 ],\n",
              "       [0.97171974, 0.02828021],\n",
              "       [0.75589776, 0.24410222],\n",
              "       [0.7369938 , 0.26300624],\n",
              "       [0.38754663, 0.61245334],\n",
              "       [0.2417868 , 0.75821316],\n",
              "       [0.32182637, 0.6781736 ],\n",
              "       [0.8911115 , 0.10888851],\n",
              "       [0.9313862 , 0.06861375],\n",
              "       [0.9191304 , 0.08086963],\n",
              "       [0.9626701 , 0.03732989],\n",
              "       [0.6568205 , 0.34317955],\n",
              "       [0.6518924 , 0.34810752],\n",
              "       [0.26359987, 0.7364001 ],\n",
              "       [0.5097848 , 0.49021518],\n",
              "       [0.9733455 , 0.02665444],\n",
              "       [0.45052144, 0.5494786 ],\n",
              "       [0.7758804 , 0.2241196 ],\n",
              "       [0.6283582 , 0.37164187],\n",
              "       [0.2552599 , 0.7447401 ],\n",
              "       [0.65772986, 0.3422701 ],\n",
              "       [0.3200727 , 0.67992723],\n",
              "       [0.6340493 , 0.36595073],\n",
              "       [0.92894405, 0.07105598],\n",
              "       [0.6458446 , 0.35415545],\n",
              "       [0.69269735, 0.3073026 ],\n",
              "       [0.24959677, 0.7504033 ],\n",
              "       [0.68505144, 0.3149486 ],\n",
              "       [0.36860245, 0.63139755],\n",
              "       [0.98112154, 0.01887844],\n",
              "       [0.91879624, 0.08120377],\n",
              "       [0.5122953 , 0.4877047 ],\n",
              "       [0.988608  , 0.01139193],\n",
              "       [0.8520713 , 0.1479287 ],\n",
              "       [0.42880815, 0.57119185],\n",
              "       [0.6523712 , 0.34762874],\n",
              "       [0.6132664 , 0.3867336 ],\n",
              "       [0.14618418, 0.8538158 ],\n",
              "       [0.29831958, 0.70168036],\n",
              "       [0.1839311 , 0.8160689 ],\n",
              "       [0.36377597, 0.6362241 ],\n",
              "       [0.9424337 , 0.05756634],\n",
              "       [0.6571559 , 0.34284413],\n",
              "       [0.9200674 , 0.07993257],\n",
              "       [0.6313992 , 0.36860076],\n",
              "       [0.5283544 , 0.4716456 ],\n",
              "       [0.9049367 , 0.09506335],\n",
              "       [0.9366531 , 0.06334695],\n",
              "       [0.8684192 , 0.13158083],\n",
              "       [0.92322695, 0.07677305],\n",
              "       [0.25803265, 0.7419673 ],\n",
              "       [0.8973134 , 0.10268664],\n",
              "       [0.8924763 , 0.10752364],\n",
              "       [0.5356458 , 0.46435428],\n",
              "       [0.27506077, 0.7249392 ],\n",
              "       [0.9601823 , 0.03981771],\n",
              "       [0.41143748, 0.5885625 ],\n",
              "       [0.96154994, 0.03845009],\n",
              "       [0.7343825 , 0.26561752],\n",
              "       [0.43707255, 0.5629275 ],\n",
              "       [0.9958085 , 0.00419157],\n",
              "       [0.32493803, 0.67506194],\n",
              "       [0.23311876, 0.7668812 ],\n",
              "       [0.38430494, 0.61569506],\n",
              "       [0.19998376, 0.8000162 ],\n",
              "       [0.8197648 , 0.18023519],\n",
              "       [0.37824845, 0.6217515 ],\n",
              "       [0.34702957, 0.65297043],\n",
              "       [0.37510383, 0.6248961 ],\n",
              "       [0.5131151 , 0.48688492],\n",
              "       [0.23734882, 0.7626512 ],\n",
              "       [0.99809724, 0.00190273],\n",
              "       [0.9756565 , 0.02434349],\n",
              "       [0.92929125, 0.07070874],\n",
              "       [0.985898  , 0.01410197],\n",
              "       [0.48594502, 0.514055  ]], dtype=float32)"
            ]
          },
          "metadata": {},
          "execution_count": 42
        }
      ]
    },
    {
      "cell_type": "code",
      "source": [
        "# we need the max in the matrix\n",
        "y_pred=np.argmax(y_pred,axis=1)"
      ],
      "metadata": {
        "id": "sO4bIUhJoxgx"
      },
      "execution_count": 43,
      "outputs": []
    },
    {
      "cell_type": "code",
      "source": [
        "#0: infected, 1: uninfected\n",
        "y_pred"
      ],
      "metadata": {
        "colab": {
          "base_uri": "https://localhost:8080/"
        },
        "id": "mmtPQCRZoxlq",
        "outputId": "f02e4b0e-eca8-4144-adb8-ba826489beaf"
      },
      "execution_count": 44,
      "outputs": [
        {
          "output_type": "execute_result",
          "data": {
            "text/plain": [
              "array([0, 0, 0, 0, 0, 1, 0, 0, 0, 0, 0, 0, 0, 0, 0, 0, 1, 0, 1, 1, 0, 0,\n",
              "       0, 0, 1, 0, 0, 0, 0, 0, 0, 0, 0, 0, 1, 0, 0, 0, 0, 1, 0, 0, 0, 0,\n",
              "       1, 1, 0, 1, 1, 0, 0, 0, 0, 1, 1, 0, 0, 0, 1, 0, 0, 0, 1, 1, 1, 0,\n",
              "       0, 0, 0, 0, 0, 1, 0, 0, 1, 0, 0, 1, 0, 1, 0, 0, 0, 0, 1, 0, 1, 0,\n",
              "       0, 0, 0, 0, 1, 0, 0, 1, 1, 1, 1, 0, 0, 0, 0, 0, 0, 0, 0, 0, 1, 0,\n",
              "       0, 0, 1, 0, 1, 0, 0, 1, 0, 1, 1, 1, 1, 0, 1, 1, 1, 0, 1, 0, 0, 0,\n",
              "       0, 1])"
            ]
          },
          "metadata": {},
          "execution_count": 44
        }
      ]
    },
    {
      "cell_type": "code",
      "source": [
        "model.save('model_vgg19.h5')"
      ],
      "metadata": {
        "id": "lXwKp_j9sMA2"
      },
      "execution_count": 33,
      "outputs": []
    },
    {
      "cell_type": "code",
      "source": [
        "model=load_model(\"model_vgg19.h5\")"
      ],
      "metadata": {
        "id": "Rps_kxXWoxxJ"
      },
      "execution_count": 34,
      "outputs": []
    },
    {
      "cell_type": "code",
      "source": [
        "img=image.load_img(\"/content/drive/MyDrive/Dataset/Test/Parasite/C39P4thinF_original_IMG_20150622_110115_cell_115.png\", target_size=(224,224,3))"
      ],
      "metadata": {
        "id": "1GW4oDe0shdb"
      },
      "execution_count": 35,
      "outputs": []
    },
    {
      "cell_type": "code",
      "source": [
        "x=image.img_to_array(img)\n",
        "x"
      ],
      "metadata": {
        "id": "7FvkXFMOsY26"
      },
      "execution_count": null,
      "outputs": []
    },
    {
      "cell_type": "code",
      "source": [
        "x.shape"
      ],
      "metadata": {
        "colab": {
          "base_uri": "https://localhost:8080/"
        },
        "id": "rs8I6R6tty9U",
        "outputId": "b3881734-1c94-4eb8-be3d-03f5a6384676"
      },
      "execution_count": 46,
      "outputs": [
        {
          "output_type": "execute_result",
          "data": {
            "text/plain": [
              "(224, 224, 3)"
            ]
          },
          "metadata": {},
          "execution_count": 46
        }
      ]
    },
    {
      "cell_type": "code",
      "source": [
        "#reshaping\n",
        "x=x.astype('float32')/255"
      ],
      "metadata": {
        "id": "j28of4wNt0gF"
      },
      "execution_count": 45,
      "outputs": []
    },
    {
      "cell_type": "code",
      "source": [
        "x=np.expand_dims(x,axis=0)\n",
        "img_data=preprocess_input(x)\n",
        "img_data.shape"
      ],
      "metadata": {
        "colab": {
          "base_uri": "https://localhost:8080/"
        },
        "id": "vCnEaLRquBGb",
        "outputId": "286228a6-a1ca-4b8c-fe32-9fa1ae8f03f5"
      },
      "execution_count": 47,
      "outputs": [
        {
          "output_type": "execute_result",
          "data": {
            "text/plain": [
              "(1, 224, 224, 3)"
            ]
          },
          "metadata": {},
          "execution_count": 47
        }
      ]
    },
    {
      "cell_type": "code",
      "source": [
        "model.predict(img_data)"
      ],
      "metadata": {
        "colab": {
          "base_uri": "https://localhost:8080/"
        },
        "id": "PwkObdYqD5JS",
        "outputId": "b0e52671-a681-4b14-933d-0486653a462a"
      },
      "execution_count": 48,
      "outputs": [
        {
          "output_type": "stream",
          "name": "stdout",
          "text": [
            "1/1 [==============================] - 1s 843ms/step\n"
          ]
        },
        {
          "output_type": "execute_result",
          "data": {
            "text/plain": [
              "array([[0.9105897 , 0.08941028]], dtype=float32)"
            ]
          },
          "metadata": {},
          "execution_count": 48
        }
      ]
    },
    {
      "cell_type": "code",
      "source": [
        "a=np.argmax(model.predict(img_data),axis=1)"
      ],
      "metadata": {
        "colab": {
          "base_uri": "https://localhost:8080/"
        },
        "id": "ZPrwkHndvC2r",
        "outputId": "f7f54c90-5eac-4714-d176-b44ca96e67de"
      },
      "execution_count": 49,
      "outputs": [
        {
          "output_type": "stream",
          "name": "stdout",
          "text": [
            "1/1 [==============================] - 0s 21ms/step\n"
          ]
        }
      ]
    },
    {
      "cell_type": "code",
      "source": [
        "if a==1:\n",
        "  print(\"the patient is uninfected\")\n",
        "else:\n",
        "  print(\"the patient is infected\")"
      ],
      "metadata": {
        "colab": {
          "base_uri": "https://localhost:8080/"
        },
        "id": "5MiWRRl_vlxc",
        "outputId": "1c3a2c66-06c6-47f5-ea19-0d826649521e"
      },
      "execution_count": 50,
      "outputs": [
        {
          "output_type": "stream",
          "name": "stdout",
          "text": [
            "the patient is infected\n"
          ]
        }
      ]
    },
    {
      "cell_type": "code",
      "source": [
        "def results(data, model):\n",
        "  img=image.load_img(data, target_size=(224,224,3))\n",
        "  x=image.img_to_array(img)\n",
        "  x1=x.astype('float32')/255\n",
        "  x2=np.expand_dims(x1,axis=0)\n",
        "  img_data=preprocess_input(x2)\n",
        "  a=np.argmax(model.predict(img_data),axis=1)\n",
        "  if a==1:\n",
        "    print(\"the patient is uninfected\")\n",
        "  else:\n",
        "    print(\"the patient is infected\")"
      ],
      "metadata": {
        "id": "o8F9kdiJv7Fi"
      },
      "execution_count": 53,
      "outputs": []
    },
    {
      "cell_type": "code",
      "source": [
        "data=\"/content/drive/MyDrive/Dataset/Test/Parasite/C39P4thinF_original_IMG_20150622_110115_cell_115.png\"\n",
        "results(data,model)"
      ],
      "metadata": {
        "colab": {
          "base_uri": "https://localhost:8080/"
        },
        "id": "A8H_CTT4wp0-",
        "outputId": "6ec1634b-f19e-4afa-8de7-88e6c00275a1"
      },
      "execution_count": 55,
      "outputs": [
        {
          "output_type": "stream",
          "name": "stdout",
          "text": [
            "1/1 [==============================] - 0s 23ms/step\n",
            "the patient is infected\n"
          ]
        }
      ]
    }
  ]
}